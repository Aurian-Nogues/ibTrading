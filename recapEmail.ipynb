{
 "cells": [
  {
   "cell_type": "code",
   "execution_count": 1,
   "metadata": {},
   "outputs": [],
   "source": [
    "import pandas as pd\n",
    "import datetime\n",
    "import re"
   ]
  },
  {
   "cell_type": "code",
   "execution_count": 2,
   "metadata": {},
   "outputs": [
    {
     "name": "stdout",
     "output_type": "stream",
     "text": [
      "2019-11-05\n"
     ]
    }
   ],
   "source": [
    "today = datetime.datetime.today()\n",
    "dateToday = today.strftime(\"%Y-%m-%d\")\n",
    "print(dateToday)\n"
   ]
  },
  {
   "cell_type": "code",
   "execution_count": 4,
   "metadata": {},
   "outputs": [],
   "source": [
    "def buildFutarbPnl(date):\n",
    "#Create trade recap and P&L\n",
    "\n",
    "    log = pd.read_csv(\"FutArb_trading_log.csv\", sep='\\s*,\\s*')\n",
    "\n",
    "    futarb_report = None\n",
    "\n",
    "    for row in log.iterrows():\n",
    "        logDate = row[1]['Time']\n",
    "        match = re.search(r'\\d{4}-\\d{2}-\\d{2}', logDate)\n",
    "        logDate = match.group()\n",
    "\n",
    "        if logDate == date:\n",
    "            #create table entries\n",
    "            contract = row[1]['Contract']\n",
    "            direction = row[1]['Direction']\n",
    "            quantity = row[1]['Quantity']\n",
    "            price = row[1]['Exec price']\n",
    "            if direction == 'Buy':\n",
    "                cashFlow = -1 * price * quantity * 50\n",
    "            else:\n",
    "                cashFlow = 1 * price * quantity * 50\n",
    "\n",
    "            #create list if it doesn't exist yet\n",
    "            if futarb_report == None:\n",
    "                futarb_report = [[contract, direction, quantity, price, cashFlow]]\n",
    "            else:\n",
    "                futarb_report.append([contract, direction, quantity, price, cashFlow])\n",
    "\n",
    "    #create dataframe\n",
    "    futarb_dataframe = pd.DataFrame(futarb_report, columns = ['contract', 'direction', 'quantity', 'price', 'cashFlow'])\n",
    "\n",
    "\n",
    "    futarb_pnl = 0\n",
    "    for row in futarb_dataframe.iterrows():\n",
    "        futarb_pnl += row[1]['cashFlow']\n",
    "        \n",
    "    return futarb_dataframe, futarb_pnl\n",
    "\n",
    "            \n",
    "\n",
    "    "
   ]
  },
  {
   "cell_type": "code",
   "execution_count": 5,
   "metadata": {},
   "outputs": [],
   "source": [
    "def buildFutarbHistoricalPnl():\n",
    "#build historical PnL\n",
    "    historicalReport = None\n",
    "    buildingDate = None\n",
    "\n",
    "    for row in log.iterrows():\n",
    "        logDate = row[1]['Time']\n",
    "        match = re.search(r'\\d{4}-\\d{2}-\\d{2}', logDate)\n",
    "        logDate = match.group()\n",
    "\n",
    "        if logDate != buildingDate:\n",
    "            buildingDate = logDate\n",
    "            trades, pnl = buildFutarbPnl(logDate)\n",
    "\n",
    "            if historicalReport == None:\n",
    "                historicalReport = [[logDate, pnl]]\n",
    "            else:\n",
    "                historicalReport.append([logDate, pnl])\n",
    "    futarbHistoricalDataframe = pd.DataFrame(historicalReport, columns = ['Date', 'P&L'])\n",
    "    return futarbHistoricalDataframe\n",
    "\n",
    "\n",
    "\n"
   ]
  },
  {
   "cell_type": "code",
   "execution_count": 6,
   "metadata": {},
   "outputs": [],
   "source": [
    "def calculateMetrics(pnl):\n",
    "    entries = pnl['P&L']\n",
    "    averageReturn = pnl['P&L'].mean()\n",
    "    totalReturn = pnl['P&L'].sum()\n",
    "    entries = 0\n",
    "    positives = 0\n",
    "    \n",
    "    for row in pnl.iterrows():\n",
    "        value = row[1]['P&L']\n",
    "        entries += 1\n",
    "        if value > 0:\n",
    "            positives +=1\n",
    "\n",
    "    hitRatio = positives / entries\n",
    "    \n",
    "        \n",
    "    \n",
    "    \n",
    "    return averageReturn, totalReturn, hitRatio\n",
    "    \n",
    "        \n",
    "    "
   ]
  },
  {
   "cell_type": "code",
   "execution_count": 7,
   "metadata": {},
   "outputs": [
    {
     "name": "stdout",
     "output_type": "stream",
     "text": [
      "Since inception: \n",
      "       Date     P&L\n",
      " 2019-09-12   602.5\n",
      " 2019-09-13   575.0\n",
      " 2019-09-16   472.5\n",
      " 2019-09-17   -55.0\n",
      " 2019-09-18    55.0\n",
      " 2019-09-19  -135.0\n",
      " 2019-09-20  5602.5\n",
      " 2019-09-24    77.5\n",
      " 2019-09-26  -197.5\n",
      " 2019-10-03   215.0\n",
      " 2019-10-04   -92.5\n",
      " 2019-10-07    97.5\n",
      " 2019-10-09   -65.0\n",
      " 2019-10-15  -375.0\n",
      " 2019-10-16   237.5\n",
      " 2019-10-17   245.0\n",
      " 2019-10-28    12.5\n",
      "\n",
      "Average return = 427.79\n",
      "Total return = 7272.50\n",
      "Hit Ratio = 64.71%\n",
      "\n",
      "Daily P&L:\n",
      "  contract direction  quantity    price  cashFlow\n",
      "0       ES      Sell       1.0  2986.25  149312.5\n",
      "1      RTY       Buy       2.0  1522.10 -152210.0\n",
      "2       ES       Buy       1.0  2987.50 -149375.0\n",
      "3      RTY      Sell       2.0  1525.10  152510.0\n",
      "P&L today: 237.5\n"
     ]
    }
   ],
   "source": [
    "table = buildFutarbHistoricalPnl()\n",
    "print('Since inception: ')\n",
    "print(table.to_string(index=False))\n",
    "print('')\n",
    "\n",
    "table = buildFutarbHistoricalPnl()\n",
    "averageReturn, totalReturn, hitRatio = calculateMetrics (table)\n",
    "print('Average return = ' + \"{:.{}f}\".format( averageReturn, 2 ))\n",
    "print('Total return = ' + \"{:.{}f}\".format( totalReturn, 2 ))\n",
    "print('Hit Ratio = ' + '{percent:.2%}'.format(percent=hitRatio))\n",
    "print('')\n",
    "\n",
    "print('Daily P&L:')\n",
    "date = '2019-10-16'\n",
    "dailyTrades, dailyPNL = buildFutarbPnl(date)\n",
    "\n",
    "print(dailyTrades)\n",
    "print('P&L today: ' + str(dailyPNL))\n"
   ]
  },
  {
   "cell_type": "code",
   "execution_count": null,
   "metadata": {},
   "outputs": [],
   "source": []
  },
  {
   "cell_type": "code",
   "execution_count": null,
   "metadata": {},
   "outputs": [],
   "source": []
  }
 ],
 "metadata": {
  "kernelspec": {
   "display_name": "Python 3",
   "language": "python",
   "name": "python3"
  },
  "language_info": {
   "codemirror_mode": {
    "name": "ipython",
    "version": 3
   },
   "file_extension": ".py",
   "mimetype": "text/x-python",
   "name": "python",
   "nbconvert_exporter": "python",
   "pygments_lexer": "ipython3",
   "version": "3.7.4"
  }
 },
 "nbformat": 4,
 "nbformat_minor": 2
}
